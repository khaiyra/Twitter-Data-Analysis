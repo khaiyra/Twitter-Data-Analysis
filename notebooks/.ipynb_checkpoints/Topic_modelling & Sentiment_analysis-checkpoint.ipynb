{
 "cells": [
  {
   "cell_type": "markdown",
   "metadata": {},
   "source": [
    "### Model the topics discussed in the tweets and their sentiments"
   ]
  },
  {
   "cell_type": "code",
   "execution_count": 1,
   "metadata": {},
   "outputs": [],
   "source": [
    "# import libraries\n",
    "import warnings\n",
    "warnings.filterwarnings('ignore')\n",
    "import matplotlib.pyplot as plt\n",
    "import seaborn as sns\n",
    "from wordcloud import STOPWORDS,WordCloud\n",
    "import gensim\n",
    "from gensim.models import CoherenceModel\n",
    "from gensim import corpora\n",
    "from pprint import pprint\n",
    "import string\n",
    "import os\n",
    "import re"
   ]
  },
  {
   "cell_type": "markdown",
   "metadata": {},
   "source": [
    "### Topic Modelling"
   ]
  },
  {
   "cell_type": "code",
   "execution_count": 2,
   "metadata": {},
   "outputs": [],
   "source": [
    "import pandas as pd\n",
    "df = pd.read_csv('../data/model_data.csv')"
   ]
  },
  {
   "cell_type": "code",
   "execution_count": 3,
   "metadata": {
    "scrolled": true
   },
   "outputs": [
    {
     "data": {
      "text/plain": [
       "[['africa',\n",
       "  'is',\n",
       "  'in',\n",
       "  'the',\n",
       "  'midst',\n",
       "  'of',\n",
       "  'a',\n",
       "  'fullblown',\n",
       "  'third',\n",
       "  'wave',\n",
       "  'of',\n",
       "  'coronavirus',\n",
       "  'the',\n",
       "  'head',\n",
       "  'of',\n",
       "  'whoafro',\n",
       "  'has',\n",
       "  'warnedsscases',\n",
       "  'have',\n",
       "  'risen',\n",
       "  'across',\n",
       "  'the',\n",
       "  'continent',\n",
       "  'by',\n",
       "  'more',\n",
       "  'than',\n",
       "  'and',\n",
       "  'deaths',\n",
       "  'have',\n",
       "  'also',\n",
       "  'risen',\n",
       "  'by',\n",
       "  'in',\n",
       "  'the',\n",
       "  'last',\n",
       "  'weekssjriggers',\n",
       "  'reports',\n",
       "  'shttpstcocrdhqphfwm'],\n",
       " ['dr',\n",
       "  'moeti',\n",
       "  'is',\n",
       "  'head',\n",
       "  'of',\n",
       "  'who',\n",
       "  'in',\n",
       "  'africa',\n",
       "  'and',\n",
       "  'one',\n",
       "  'of',\n",
       "  'the',\n",
       "  'best',\n",
       "  'public',\n",
       "  'health',\n",
       "  'experts',\n",
       "  'and',\n",
       "  'leaders',\n",
       "  'i',\n",
       "  'know',\n",
       "  'hers',\n",
       "  'is',\n",
       "  'a',\n",
       "  'desperate',\n",
       "  'request',\n",
       "  'for',\n",
       "  'vaccines',\n",
       "  'to',\n",
       "  'africa',\n",
       "  'we',\n",
       "  'plead',\n",
       "  'with',\n",
       "  'germany',\n",
       "  'and',\n",
       "  'the',\n",
       "  'uk',\n",
       "  'to',\n",
       "  'lift',\n",
       "  'patent',\n",
       "  'restrictions',\n",
       "  'and',\n",
       "  'urgently',\n",
       "  'transfer',\n",
       "  'technology',\n",
       "  'to',\n",
       "  'enable',\n",
       "  'production',\n",
       "  'in',\n",
       "  'africa',\n",
       "  'httpstcosogiroihoc']]"
      ]
     },
     "execution_count": 3,
     "metadata": {},
     "output_type": "execute_result"
    }
   ],
   "source": [
    "# converting tweets to list of words For feature engineering\n",
    "sentence_list = [tweet for tweet in df['clean_text']]\n",
    "word_list = [sent.split() for sent in sentence_list]\n",
    "word_list[:2]"
   ]
  },
  {
   "cell_type": "code",
   "execution_count": 5,
   "metadata": {},
   "outputs": [],
   "source": [
    "# create dictionary which contains Id and word \n",
    "word_to_id = corpora.Dictionary(word_list)\n",
    "corpus = [word_to_id.doc2bow(tweet) for tweet in word_list]"
   ]
  },
  {
   "cell_type": "code",
   "execution_count": 7,
   "metadata": {},
   "outputs": [],
   "source": [
    "# Build LDA model; it maps each teweets in our corpus to a set of topics which covers a good deal of the words in the tweet\n",
    "lda_model = gensim.models.ldamodel.LdaModel(corpus,\n",
    "                                           id2word=word_to_id,\n",
    "                                           num_topics=5, \n",
    "                                           random_state=100,\n",
    "                                           update_every=1,\n",
    "                                           chunksize=100,\n",
    "                                           passes=10,\n",
    "                                           alpha='auto',\n",
    "                                           per_word_topics=True)"
   ]
  },
  {
   "cell_type": "code",
   "execution_count": 8,
   "metadata": {},
   "outputs": [
    {
     "name": "stdout",
     "output_type": "stream",
     "text": [
      "[(0,\n",
      "  [('the', 0.029466843),\n",
      "   ('covid', 0.02805267),\n",
      "   ('of', 0.023706144),\n",
      "   ('vaccines', 0.022156278),\n",
      "   ('in', 0.019397339),\n",
      "   ('and', 0.01846069),\n",
      "   ('to', 0.017154872),\n",
      "   ('a', 0.013795926),\n",
      "   ('people', 0.012778343),\n",
      "   ('vaccinated', 0.012094214)]),\n",
      " (1,\n",
      "  [('the', 0.045241017),\n",
      "   ('to', 0.039863296),\n",
      "   ('covid', 0.027612576),\n",
      "   ('of', 0.024481608),\n",
      "   ('vaccines', 0.022700375),\n",
      "   ('are', 0.021122461),\n",
      "   ('in', 0.015582494),\n",
      "   ('amp', 0.015417857),\n",
      "   ('is', 0.013467655),\n",
      "   ('a', 0.012081895)]),\n",
      " (2,\n",
      "  [('to', 0.05975064),\n",
      "   ('you', 0.053836454),\n",
      "   ('rt', 0.045495514),\n",
      "   ('your', 0.04375733),\n",
      "   ('vaccines', 0.04135175),\n",
      "   ('israel', 0.04034832),\n",
      "   ('just', 0.03610929),\n",
      "   ('by', 0.03564749),\n",
      "   ('expired', 0.033574816),\n",
      "   ('another', 0.031833116)]),\n",
      " (3,\n",
      "  [('the', 0.04838843),\n",
      "   ('africa', 0.037850708),\n",
      "   ('of', 0.037773605),\n",
      "   ('in', 0.037295036),\n",
      "   ('and', 0.031801805),\n",
      "   ('india', 0.026686076),\n",
      "   ('to', 0.026571812),\n",
      "   ('is', 0.022459943),\n",
      "   ('a', 0.015058199),\n",
      "   ('cases', 0.013675442)]),\n",
      " (4,\n",
      "  [('sdose', 0.055205345),\n",
      "   ('capacity', 0.043292884),\n",
      "   ('age', 0.039980482),\n",
      "   ('code', 0.036283977),\n",
      "   ('pin', 0.0362114),\n",
      "   ('limit', 0.0362114),\n",
      "   ('covaxinsmin', 0.024517752),\n",
      "   ('need', 0.024493553),\n",
      "   ('pmcgsvaccines', 0.023285028),\n",
      "   ('we', 0.022362158)])]\n"
     ]
    }
   ],
   "source": [
    "pprint(lda_model.show_topics(formatted=False))"
   ]
  },
  {
   "cell_type": "code",
   "execution_count": 10,
   "metadata": {},
   "outputs": [
    {
     "name": "stdout",
     "output_type": "stream",
     "text": [
      "Perplexity:  -6.444959458779572\n",
      "Ldamodel Coherence Score/Accuracy on Tweets:  0.5120588689368838\n"
     ]
    }
   ],
   "source": [
    "# Evaluating trained topic model using perplexity which measures how good the model is and cherence score\n",
    "\n",
    "# perplexity\n",
    "print('Perplexity: ', lda_model.log_perplexity(corpus))  \n",
    "doc_lda = lda_model[corpus]\n",
    "\n",
    "# Compute Coherence Score\n",
    "coherence_model_lda = CoherenceModel(model=lda_model, texts=word_list, dictionary=word_to_id, coherence='c_v')\n",
    "coherence_lda = coherence_model_lda.get_coherence()\n",
    "print('Ldamodel Coherence Score/Accuracy on Tweets: ', coherence_lda)"
   ]
  },
  {
   "cell_type": "code",
   "execution_count": null,
   "metadata": {},
   "outputs": [],
   "source": [
    "# visualize topic model using pyLDAvis\n",
    "import pyLDAvis.gensim_models as gensimvis\n",
    "import pickle \n",
    "import pyLDAvis\n",
    "# visualize the topics\n",
    "pyLDAvis.enable_notebook()\n",
    "\n",
    "LDAvis_prepared = gensimvis.prepare(lda_model, corpus, word_to_id)\n",
    "LDAvis_prepared"
   ]
  },
  {
   "cell_type": "markdown",
   "metadata": {},
   "source": [
    "### Sentiment Analysis"
   ]
  },
  {
   "cell_type": "code",
   "execution_count": 36,
   "metadata": {},
   "outputs": [],
   "source": [
    "# more library importation\n",
    "from sklearn.feature_extraction.text import CountVectorizer, TfidfTransformer\n",
    "from sklearn.model_selection import train_test_split\n",
    "from sklearn.preprocessing import StandardScaler\n",
    "from scipy.sparse import csr_matrix\n",
    "from sklearn.pipeline import make_pipeline\n",
    "import numpy as np\n",
    "from sklearn.linear_model import SGDClassifier\n",
    "from joblib import dump, load # used for saving and loading sklearn objects\n",
    "from scipy.sparse import save_npz, load_npz # used for saving and loading sparse matrices\n",
    "from sklearn.decomposition import NMF, LatentDirichletAllocation"
   ]
  },
  {
   "cell_type": "code",
   "execution_count": 14,
   "metadata": {},
   "outputs": [
    {
     "data": {
      "text/html": [
       "<div>\n",
       "<style scoped>\n",
       "    .dataframe tbody tr th:only-of-type {\n",
       "        vertical-align: middle;\n",
       "    }\n",
       "\n",
       "    .dataframe tbody tr th {\n",
       "        vertical-align: top;\n",
       "    }\n",
       "\n",
       "    .dataframe thead th {\n",
       "        text-align: right;\n",
       "    }\n",
       "</style>\n",
       "<table border=\"1\" class=\"dataframe\">\n",
       "  <thead>\n",
       "    <tr style=\"text-align: right;\">\n",
       "      <th></th>\n",
       "      <th>clean_text</th>\n",
       "      <th>polarity</th>\n",
       "    </tr>\n",
       "  </thead>\n",
       "  <tbody>\n",
       "    <tr>\n",
       "      <th>0</th>\n",
       "      <td>africa is in the midst of a fullblown third wa...</td>\n",
       "      <td>0.166667</td>\n",
       "    </tr>\n",
       "    <tr>\n",
       "      <th>1</th>\n",
       "      <td>dr moeti is head of who in africa and one of t...</td>\n",
       "      <td>0.133333</td>\n",
       "    </tr>\n",
       "    <tr>\n",
       "      <th>2</th>\n",
       "      <td>thank you researchnote for creating this amazi...</td>\n",
       "      <td>0.316667</td>\n",
       "    </tr>\n",
       "    <tr>\n",
       "      <th>3</th>\n",
       "      <td>former pfizer vp and virologist dr michael yea...</td>\n",
       "      <td>0.086111</td>\n",
       "    </tr>\n",
       "    <tr>\n",
       "      <th>4</th>\n",
       "      <td>i think its important that we dont sell covax ...</td>\n",
       "      <td>0.280000</td>\n",
       "    </tr>\n",
       "  </tbody>\n",
       "</table>\n",
       "</div>"
      ],
      "text/plain": [
       "                                          clean_text  polarity\n",
       "0  africa is in the midst of a fullblown third wa...  0.166667\n",
       "1  dr moeti is head of who in africa and one of t...  0.133333\n",
       "2  thank you researchnote for creating this amazi...  0.316667\n",
       "3  former pfizer vp and virologist dr michael yea...  0.086111\n",
       "4  i think its important that we dont sell covax ...  0.280000"
      ]
     },
     "execution_count": 14,
     "metadata": {},
     "output_type": "execute_result"
    }
   ],
   "source": [
    "df.head()"
   ]
  },
  {
   "cell_type": "code",
   "execution_count": 15,
   "metadata": {},
   "outputs": [],
   "source": [
    "def text_category(p):\n",
    "    ''' A function  that takes a value p and returns, depending on the value of p, \n",
    "    a string 'positive', 'negative' or 'neutral' '''\n",
    "    \n",
    "    if p > 0:\n",
    "        return 'positive'\n",
    "    elif p < 0:\n",
    "        return 'negative'\n",
    "    else:\n",
    "        return 'neutral'"
   ]
  },
  {
   "cell_type": "code",
   "execution_count": 16,
   "metadata": {},
   "outputs": [],
   "source": [
    "# apply above function on polarity column\n",
    "df['score'] = df['polarity'].apply(text_category)"
   ]
  },
  {
   "cell_type": "code",
   "execution_count": 17,
   "metadata": {},
   "outputs": [
    {
     "data": {
      "text/html": [
       "<div>\n",
       "<style scoped>\n",
       "    .dataframe tbody tr th:only-of-type {\n",
       "        vertical-align: middle;\n",
       "    }\n",
       "\n",
       "    .dataframe tbody tr th {\n",
       "        vertical-align: top;\n",
       "    }\n",
       "\n",
       "    .dataframe thead th {\n",
       "        text-align: right;\n",
       "    }\n",
       "</style>\n",
       "<table border=\"1\" class=\"dataframe\">\n",
       "  <thead>\n",
       "    <tr style=\"text-align: right;\">\n",
       "      <th></th>\n",
       "      <th>clean_text</th>\n",
       "      <th>polarity</th>\n",
       "      <th>score</th>\n",
       "      <th>scoremap</th>\n",
       "    </tr>\n",
       "  </thead>\n",
       "  <tbody>\n",
       "    <tr>\n",
       "      <th>0</th>\n",
       "      <td>africa is in the midst of a fullblown third wa...</td>\n",
       "      <td>0.166667</td>\n",
       "      <td>positive</td>\n",
       "      <td>1</td>\n",
       "    </tr>\n",
       "    <tr>\n",
       "      <th>1</th>\n",
       "      <td>dr moeti is head of who in africa and one of t...</td>\n",
       "      <td>0.133333</td>\n",
       "      <td>positive</td>\n",
       "      <td>1</td>\n",
       "    </tr>\n",
       "    <tr>\n",
       "      <th>2</th>\n",
       "      <td>thank you researchnote for creating this amazi...</td>\n",
       "      <td>0.316667</td>\n",
       "      <td>positive</td>\n",
       "      <td>1</td>\n",
       "    </tr>\n",
       "    <tr>\n",
       "      <th>3</th>\n",
       "      <td>former pfizer vp and virologist dr michael yea...</td>\n",
       "      <td>0.086111</td>\n",
       "      <td>positive</td>\n",
       "      <td>1</td>\n",
       "    </tr>\n",
       "    <tr>\n",
       "      <th>4</th>\n",
       "      <td>i think its important that we dont sell covax ...</td>\n",
       "      <td>0.280000</td>\n",
       "      <td>positive</td>\n",
       "      <td>1</td>\n",
       "    </tr>\n",
       "  </tbody>\n",
       "</table>\n",
       "</div>"
      ],
      "text/plain": [
       "                                          clean_text  polarity     score  \\\n",
       "0  africa is in the midst of a fullblown third wa...  0.166667  positive   \n",
       "1  dr moeti is head of who in africa and one of t...  0.133333  positive   \n",
       "2  thank you researchnote for creating this amazi...  0.316667  positive   \n",
       "3  former pfizer vp and virologist dr michael yea...  0.086111  positive   \n",
       "4  i think its important that we dont sell covax ...  0.280000  positive   \n",
       "\n",
       "   scoremap  \n",
       "0         1  \n",
       "1         1  \n",
       "2         1  \n",
       "3         1  \n",
       "4         1  "
      ]
     },
     "execution_count": 17,
     "metadata": {},
     "output_type": "execute_result"
    }
   ],
   "source": [
    "# Remove rows from where  score is neutral \n",
    "df.drop(df.loc[df['score']=='neutral'].index, inplace=True)\n",
    "df = df.reset_index(drop=True) # reset frame index\n",
    "\n",
    "# create score map column\n",
    "mapping = {'positive':1,'negative':0} # create mapping dictionary\n",
    "df['scoremap']= df['score'].map(mapping)\n",
    "df.head()"
   ]
  },
  {
   "cell_type": "code",
   "execution_count": 18,
   "metadata": {},
   "outputs": [],
   "source": [
    "# create feature and target variables; X and y\n",
    "X = df['clean_text']\n",
    "y = df['scoremap']"
   ]
  },
  {
   "cell_type": "code",
   "execution_count": 27,
   "metadata": {},
   "outputs": [],
   "source": [
    "# SGDClassifier\n",
    "from sklearn.model_selection import train_test_split # import library\n",
    "X_train, X_test, y_train, y_test = train_test_split(X, y, test_size = 0.20, random_state = 1) # split data\n",
    "\n",
    "# vectorize data with a trigram parameter\n",
    "from sklearn.feature_extraction.text import CountVectorizer # import library\n",
    "cv = CountVectorizer(ngram_range=(1, 3))\n",
    "X_train_cv = cv.fit_transform(X_train)\n",
    "X_test_cv = cv.transform(X_test)"
   ]
  },
  {
   "cell_type": "code",
   "execution_count": 28,
   "metadata": {},
   "outputs": [],
   "source": [
    "# build model\n",
    "from sklearn.linear_model import SGDClassifier\n",
    "clf = SGDClassifier()\n",
    "clf.fit(X_train_cv, y_train)\n",
    "predictions = clf.predict(X_test_cv)"
   ]
  },
  {
   "cell_type": "code",
   "execution_count": 29,
   "metadata": {},
   "outputs": [
    {
     "data": {
      "text/plain": [
       "0.9553666312433581"
      ]
     },
     "execution_count": 29,
     "metadata": {},
     "output_type": "execute_result"
    }
   ],
   "source": [
    "# evaluate model on test data\n",
    "clf.score(X_test_cv, y_test)"
   ]
  },
  {
   "cell_type": "code",
   "execution_count": 32,
   "metadata": {},
   "outputs": [
    {
     "data": {
      "text/plain": [
       "CountVectorizer(ngram_range=(1, 2))"
      ]
     },
     "execution_count": 32,
     "metadata": {},
     "output_type": "execute_result"
    }
   ],
   "source": [
    "bigram_vectorizer = CountVectorizer(ngram_range=(1, 2))\n",
    "bigram_vectorizer.fit(X.values)"
   ]
  },
  {
   "cell_type": "code",
   "execution_count": 38,
   "metadata": {},
   "outputs": [],
   "source": [
    "X_bigram_vectorizer = bigram_vectorizer.transform(X.values)"
   ]
  },
  {
   "cell_type": "code",
   "execution_count": 39,
   "metadata": {},
   "outputs": [],
   "source": [
    "def train_and_show_scores(X: csr_matrix, y: np.array, title: str) -> None:\n",
    "    X_train, X_test, y_train, y_test = train_test_split(\n",
    "        X, y, train_size=0.75, stratify=y\n",
    "    )\n",
    "\n",
    "    clf = SGDClassifier()\n",
    "    clf.fit(X_train, y_train)\n",
    "    train_score = clf.score(X_train, y_train)\n",
    "    test_score = clf.score(X_test, y_test)\n",
    "    print(f'{title}\\nTrain score: {round(train_score, 2)} ; Test score: {round(test_score, 2)}\\n')"
   ]
  },
  {
   "cell_type": "code",
   "execution_count": 40,
   "metadata": {},
   "outputs": [
    {
     "name": "stdout",
     "output_type": "stream",
     "text": [
      "Bigram Counts\n",
      "Train score: 1.0 ; Test score: 0.97\n",
      "\n"
     ]
    }
   ],
   "source": [
    "train_and_show_scores(X_bigram_vectorizer, y.values, 'Bigram Counts')"
   ]
  }
 ],
 "metadata": {
  "kernelspec": {
   "display_name": "Python 3",
   "language": "python",
   "name": "python3"
  },
  "language_info": {
   "codemirror_mode": {
    "name": "ipython",
    "version": 3
   },
   "file_extension": ".py",
   "mimetype": "text/x-python",
   "name": "python",
   "nbconvert_exporter": "python",
   "pygments_lexer": "ipython3",
   "version": "3.8.5"
  }
 },
 "nbformat": 4,
 "nbformat_minor": 4
}
